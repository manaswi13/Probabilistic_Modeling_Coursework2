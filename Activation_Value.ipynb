{
 "cells": [
  {
   "cell_type": "code",
   "execution_count": 2,
   "id": "025df0d7-1c94-4409-9aa5-fb3bd7954f4e",
   "metadata": {},
   "outputs": [
    {
     "name": "stdout",
     "output_type": "stream",
     "text": [
      "Predicted activation: -0.9817, Std: 0.4060\n"
     ]
    }
   ],
   "source": [
    "import numpy as np\n",
    "import pandas as pd\n",
    "from sklearn.gaussian_process import GaussianProcessRegressor\n",
    "from sklearn.gaussian_process.kernels import RBF\n",
    "\n",
    "# Load data and fit GP (from part (b))\n",
    "data = pd.read_csv('pheronome_csv.csv', header=None)\n",
    "X = data[0].values.reshape(-1, 1)\n",
    "y = data[1].values\n",
    "kernel = 1.0**2 * RBF(length_scale=0.5)\n",
    "gp = GaussianProcessRegressor(kernel=kernel, alpha=0.01)\n",
    "gp.fit(X, y)\n",
    "\n",
    "# Predict at x = 1.6\n",
    "x_new = np.array([[1.6]])\n",
    "y_pred, sigma = gp.predict(x_new, return_std=True)\n",
    "print(f\"Predicted activation: {y_pred[0]:.4f}, Std: {sigma[0]:.4f}\")"
   ]
  },
  {
   "cell_type": "code",
   "execution_count": null,
   "id": "6c6abad2-e241-4487-825d-25be8da05db6",
   "metadata": {},
   "outputs": [],
   "source": []
  }
 ],
 "metadata": {
  "kernelspec": {
   "display_name": "Python [conda env:base] *",
   "language": "python",
   "name": "conda-base-py"
  },
  "language_info": {
   "codemirror_mode": {
    "name": "ipython",
    "version": 3
   },
   "file_extension": ".py",
   "mimetype": "text/x-python",
   "name": "python",
   "nbconvert_exporter": "python",
   "pygments_lexer": "ipython3",
   "version": "3.12.7"
  }
 },
 "nbformat": 4,
 "nbformat_minor": 5
}
