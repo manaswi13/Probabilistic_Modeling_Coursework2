{
 "cells": [
  {
   "cell_type": "code",
   "execution_count": 1,
   "id": "a4f11690-1e15-4017-a13e-d7b6c571c5d7",
   "metadata": {},
   "outputs": [
    {
     "name": "stdout",
     "output_type": "stream",
     "text": [
      "Closest spread center: [-0.874  -0.3773], distance: 0.3942\n",
      "Probability for closest center (k=1): 0.5992\n"
     ]
    }
   ],
   "source": [
    "import numpy as np\n",
    "from scipy.stats import multivariate_normal\n",
    "\n",
    "# Define new point and GMM parameters\n",
    "x = np.array([-0.5566, -0.6111])\n",
    "means = np.array([[-0.8740, -0.3773], [0.6128, 0.0649], \n",
    "                  [-0.0074, -0.4078], [-0.1258, 0.5720]])\n",
    "covariances = np.array([[[0.1770, -0.1082], [-0.1082, 0.2618]],\n",
    "                        [[0.1553, -0.0002], [-0.0002, 0.1894]],\n",
    "                        [[0.1373, -0.0277], [-0.0277, 0.1185]],\n",
    "                        [[0.1844, 0.0218], [0.0218, 0.1644]]])\n",
    "weights = np.array([0.2143, 0.2462, 0.3222, 0.2173])\n",
    "\n",
    "# Compute Euclidean distances\n",
    "distances = np.sqrt(np.sum((x - means)**2, axis=1))\n",
    "closest_idx = np.argmin(distances)\n",
    "print(f\"Closest spread center: {means[closest_idx]}, distance: {distances[closest_idx]:.4f}\")\n",
    "\n",
    "# Compute responsibilities\n",
    "probs = np.array([weights[k] * multivariate_normal.pdf(x, mean=means[k], cov=covariances[k]) \n",
    "                  for k in range(4)])\n",
    "responsibility = probs / np.sum(probs)\n",
    "print(f\"Probability for closest center (k=1): {responsibility[closest_idx]:.4f}\")"
   ]
  },
  {
   "cell_type": "code",
   "execution_count": null,
   "id": "6bd2b773-d8bd-427e-8633-781c37d76bfa",
   "metadata": {},
   "outputs": [],
   "source": []
  }
 ],
 "metadata": {
  "kernelspec": {
   "display_name": "Python [conda env:base] *",
   "language": "python",
   "name": "conda-base-py"
  },
  "language_info": {
   "codemirror_mode": {
    "name": "ipython",
    "version": 3
   },
   "file_extension": ".py",
   "mimetype": "text/x-python",
   "name": "python",
   "nbconvert_exporter": "python",
   "pygments_lexer": "ipython3",
   "version": "3.12.7"
  }
 },
 "nbformat": 4,
 "nbformat_minor": 5
}
